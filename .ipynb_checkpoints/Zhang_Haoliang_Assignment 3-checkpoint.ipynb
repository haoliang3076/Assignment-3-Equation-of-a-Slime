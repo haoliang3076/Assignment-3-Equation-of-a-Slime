{
 "cells": [
  {
   "cell_type": "markdown",
   "metadata": {
    "id": "n6o7PcHj5Jih"
   },
   "source": [
    "<a href=\"https://colab.research.google.com/github/profmcnich/example_notebook/blob/main/a3_sample_notebook.ipynb\" target=\"_parent\"><img src=\"https://colab.research.google.com/assets/colab-badge.svg\" alt=\"Open In Colab\"/></a>\n",
    "\n",
    "\\(\\^Be sure to update this button to point to your notebook instead of the sample notebook\\)"
   ]
  },
  {
   "cell_type": "code",
   "execution_count": 51,
   "metadata": {
    "id": "zuD25_4F5Jit"
   },
   "outputs": [],
   "source": [
    "# Imports section\n",
    "import pandas as pd\n",
    "import numpy as np\n",
    "from sklearn.model_selection import train_test_split\n",
    "from sklearn import datasets\n",
    "from sklearn import svm\n",
    "from sklearn.linear_model import LinearRegression\n",
    "from sklearn.model_selection import ShuffleSplit\n",
    "from sklearn.model_selection import cross_val_score\n",
    "from sklearn.preprocessing import PolynomialFeatures\n",
    "from sklearn.pipeline import make_pipeline\n",
    "import sklearn\n",
    "from sklearn import linear_model"
   ]
  },
  {
   "cell_type": "markdown",
   "metadata": {
    "id": "DtRIWhks5Ji3"
   },
   "source": [
    "## Part 1. Loading the dataset"
   ]
  },
  {
   "cell_type": "code",
   "execution_count": 52,
   "metadata": {
    "id": "ucfKHfjQ5Ji4"
   },
   "outputs": [],
   "source": [
    "# Using pandas load the dataset (load remotely, not locally)\n",
    "df = pd.read_csv(\"https://raw.githubusercontent.com/profmcnich/example_notebook/main/science_data_large.csv\")"
   ]
  },
  {
   "cell_type": "code",
   "execution_count": 53,
   "metadata": {
    "colab": {
     "base_uri": "https://localhost:8080/",
     "height": 514
    },
    "id": "jX0qmdoz9cXf",
    "outputId": "77b42b28-5b5e-4b13-e5fa-b68f763e852e"
   },
   "outputs": [
    {
     "data": {
      "text/html": [
       "<div>\n",
       "<style scoped>\n",
       "    .dataframe tbody tr th:only-of-type {\n",
       "        vertical-align: middle;\n",
       "    }\n",
       "\n",
       "    .dataframe tbody tr th {\n",
       "        vertical-align: top;\n",
       "    }\n",
       "\n",
       "    .dataframe thead th {\n",
       "        text-align: right;\n",
       "    }\n",
       "</style>\n",
       "<table border=\"1\" class=\"dataframe\">\n",
       "  <thead>\n",
       "    <tr style=\"text-align: right;\">\n",
       "      <th></th>\n",
       "      <th>Temperature °C</th>\n",
       "      <th>Mols KCL</th>\n",
       "      <th>Size nm^3</th>\n",
       "    </tr>\n",
       "  </thead>\n",
       "  <tbody>\n",
       "    <tr>\n",
       "      <th>0</th>\n",
       "      <td>469</td>\n",
       "      <td>647</td>\n",
       "      <td>6.244743e+05</td>\n",
       "    </tr>\n",
       "    <tr>\n",
       "      <th>1</th>\n",
       "      <td>403</td>\n",
       "      <td>694</td>\n",
       "      <td>5.779610e+05</td>\n",
       "    </tr>\n",
       "    <tr>\n",
       "      <th>2</th>\n",
       "      <td>302</td>\n",
       "      <td>975</td>\n",
       "      <td>6.196847e+05</td>\n",
       "    </tr>\n",
       "    <tr>\n",
       "      <th>3</th>\n",
       "      <td>779</td>\n",
       "      <td>916</td>\n",
       "      <td>1.460449e+06</td>\n",
       "    </tr>\n",
       "    <tr>\n",
       "      <th>4</th>\n",
       "      <td>901</td>\n",
       "      <td>18</td>\n",
       "      <td>4.325726e+04</td>\n",
       "    </tr>\n",
       "    <tr>\n",
       "      <th>5</th>\n",
       "      <td>545</td>\n",
       "      <td>637</td>\n",
       "      <td>7.124634e+05</td>\n",
       "    </tr>\n",
       "    <tr>\n",
       "      <th>6</th>\n",
       "      <td>660</td>\n",
       "      <td>519</td>\n",
       "      <td>7.006960e+05</td>\n",
       "    </tr>\n",
       "    <tr>\n",
       "      <th>7</th>\n",
       "      <td>143</td>\n",
       "      <td>869</td>\n",
       "      <td>2.718260e+05</td>\n",
       "    </tr>\n",
       "    <tr>\n",
       "      <th>8</th>\n",
       "      <td>89</td>\n",
       "      <td>461</td>\n",
       "      <td>8.919803e+04</td>\n",
       "    </tr>\n",
       "    <tr>\n",
       "      <th>9</th>\n",
       "      <td>294</td>\n",
       "      <td>776</td>\n",
       "      <td>4.770210e+05</td>\n",
       "    </tr>\n",
       "    <tr>\n",
       "      <th>10</th>\n",
       "      <td>991</td>\n",
       "      <td>117</td>\n",
       "      <td>2.441771e+05</td>\n",
       "    </tr>\n",
       "    <tr>\n",
       "      <th>11</th>\n",
       "      <td>307</td>\n",
       "      <td>781</td>\n",
       "      <td>5.006455e+05</td>\n",
       "    </tr>\n",
       "    <tr>\n",
       "      <th>12</th>\n",
       "      <td>206</td>\n",
       "      <td>70</td>\n",
       "      <td>3.145200e+04</td>\n",
       "    </tr>\n",
       "    <tr>\n",
       "      <th>13</th>\n",
       "      <td>437</td>\n",
       "      <td>599</td>\n",
       "      <td>5.390215e+05</td>\n",
       "    </tr>\n",
       "    <tr>\n",
       "      <th>14</th>\n",
       "      <td>566</td>\n",
       "      <td>75</td>\n",
       "      <td>9.185271e+04</td>\n",
       "    </tr>\n",
       "  </tbody>\n",
       "</table>\n",
       "</div>"
      ],
      "text/plain": [
       "    Temperature °C  Mols KCL     Size nm^3\n",
       "0              469       647  6.244743e+05\n",
       "1              403       694  5.779610e+05\n",
       "2              302       975  6.196847e+05\n",
       "3              779       916  1.460449e+06\n",
       "4              901        18  4.325726e+04\n",
       "5              545       637  7.124634e+05\n",
       "6              660       519  7.006960e+05\n",
       "7              143       869  2.718260e+05\n",
       "8               89       461  8.919803e+04\n",
       "9              294       776  4.770210e+05\n",
       "10             991       117  2.441771e+05\n",
       "11             307       781  5.006455e+05\n",
       "12             206        70  3.145200e+04\n",
       "13             437       599  5.390215e+05\n",
       "14             566        75  9.185271e+04"
      ]
     },
     "execution_count": 53,
     "metadata": {},
     "output_type": "execute_result"
    }
   ],
   "source": [
    "# Output the first 15 rows of the data\n",
    "df.head(15)"
   ]
  },
  {
   "cell_type": "code",
   "execution_count": 54,
   "metadata": {
    "colab": {
     "base_uri": "https://localhost:8080/"
    },
    "id": "0-qvxXrF9fsn",
    "outputId": "87c2eacc-917a-4a7e-9258-65a14502395a"
   },
   "outputs": [
    {
     "name": "stdout",
     "output_type": "stream",
     "text": [
      "<class 'pandas.core.frame.DataFrame'>\n",
      "RangeIndex: 1000 entries, 0 to 999\n",
      "Data columns (total 3 columns):\n",
      " #   Column          Non-Null Count  Dtype  \n",
      "---  ------          --------------  -----  \n",
      " 0   Temperature °C  1000 non-null   int64  \n",
      " 1   Mols KCL        1000 non-null   int64  \n",
      " 2   Size nm^3       1000 non-null   float64\n",
      "dtypes: float64(1), int64(2)\n",
      "memory usage: 23.6 KB\n"
     ]
    }
   ],
   "source": [
    "# Display a summary of the table information (number of datapoints, etc.)\n",
    "df.info()"
   ]
  },
  {
   "cell_type": "code",
   "execution_count": 55,
   "metadata": {
    "colab": {
     "base_uri": "https://localhost:8080/",
     "height": 297
    },
    "id": "-eNeBlJb9_Oy",
    "outputId": "e74ab210-2f29-46ba-c1ee-fd55221c29f2"
   },
   "outputs": [
    {
     "data": {
      "text/html": [
       "<div>\n",
       "<style scoped>\n",
       "    .dataframe tbody tr th:only-of-type {\n",
       "        vertical-align: middle;\n",
       "    }\n",
       "\n",
       "    .dataframe tbody tr th {\n",
       "        vertical-align: top;\n",
       "    }\n",
       "\n",
       "    .dataframe thead th {\n",
       "        text-align: right;\n",
       "    }\n",
       "</style>\n",
       "<table border=\"1\" class=\"dataframe\">\n",
       "  <thead>\n",
       "    <tr style=\"text-align: right;\">\n",
       "      <th></th>\n",
       "      <th>Temperature °C</th>\n",
       "      <th>Mols KCL</th>\n",
       "      <th>Size nm^3</th>\n",
       "    </tr>\n",
       "  </thead>\n",
       "  <tbody>\n",
       "    <tr>\n",
       "      <th>count</th>\n",
       "      <td>1000.000000</td>\n",
       "      <td>1000.000000</td>\n",
       "      <td>1.000000e+03</td>\n",
       "    </tr>\n",
       "    <tr>\n",
       "      <th>mean</th>\n",
       "      <td>500.500000</td>\n",
       "      <td>471.530000</td>\n",
       "      <td>5.086111e+05</td>\n",
       "    </tr>\n",
       "    <tr>\n",
       "      <th>std</th>\n",
       "      <td>288.819436</td>\n",
       "      <td>288.482872</td>\n",
       "      <td>4.474838e+05</td>\n",
       "    </tr>\n",
       "    <tr>\n",
       "      <th>min</th>\n",
       "      <td>1.000000</td>\n",
       "      <td>1.000000</td>\n",
       "      <td>1.611429e+01</td>\n",
       "    </tr>\n",
       "    <tr>\n",
       "      <th>25%</th>\n",
       "      <td>250.750000</td>\n",
       "      <td>226.750000</td>\n",
       "      <td>1.298267e+05</td>\n",
       "    </tr>\n",
       "    <tr>\n",
       "      <th>50%</th>\n",
       "      <td>500.500000</td>\n",
       "      <td>459.500000</td>\n",
       "      <td>3.827182e+05</td>\n",
       "    </tr>\n",
       "    <tr>\n",
       "      <th>75%</th>\n",
       "      <td>750.250000</td>\n",
       "      <td>710.250000</td>\n",
       "      <td>7.603211e+05</td>\n",
       "    </tr>\n",
       "    <tr>\n",
       "      <th>max</th>\n",
       "      <td>1000.000000</td>\n",
       "      <td>1000.000000</td>\n",
       "      <td>1.972127e+06</td>\n",
       "    </tr>\n",
       "  </tbody>\n",
       "</table>\n",
       "</div>"
      ],
      "text/plain": [
       "       Temperature °C     Mols KCL     Size nm^3\n",
       "count     1000.000000  1000.000000  1.000000e+03\n",
       "mean       500.500000   471.530000  5.086111e+05\n",
       "std        288.819436   288.482872  4.474838e+05\n",
       "min          1.000000     1.000000  1.611429e+01\n",
       "25%        250.750000   226.750000  1.298267e+05\n",
       "50%        500.500000   459.500000  3.827182e+05\n",
       "75%        750.250000   710.250000  7.603211e+05\n",
       "max       1000.000000  1000.000000  1.972127e+06"
      ]
     },
     "execution_count": 55,
     "metadata": {},
     "output_type": "execute_result"
    }
   ],
   "source": [
    "df.describe()"
   ]
  },
  {
   "cell_type": "code",
   "execution_count": 56,
   "metadata": {
    "colab": {
     "base_uri": "https://localhost:8080/"
    },
    "id": "zsiogMwx-DO3",
    "outputId": "34a393d5-09bd-46b8-edc4-ef9b1e5c211e"
   },
   "outputs": [
    {
     "data": {
      "text/plain": [
       "3000"
      ]
     },
     "execution_count": 56,
     "metadata": {},
     "output_type": "execute_result"
    }
   ],
   "source": [
    "df.size"
   ]
  },
  {
   "cell_type": "code",
   "execution_count": 57,
   "metadata": {
    "colab": {
     "base_uri": "https://localhost:8080/"
    },
    "id": "FBCiKemF-LfZ",
    "outputId": "4a583612-4d21-4339-8785-c8f78667562f"
   },
   "outputs": [
    {
     "data": {
      "text/plain": [
       "Temperature °C      int64\n",
       "Mols KCL            int64\n",
       "Size nm^3         float64\n",
       "dtype: object"
      ]
     },
     "execution_count": 57,
     "metadata": {},
     "output_type": "execute_result"
    }
   ],
   "source": [
    "df.dtypes"
   ]
  },
  {
   "cell_type": "markdown",
   "metadata": {
    "id": "P0mAp8WB5Ji5"
   },
   "source": [
    "## Part 2. Splitting the dataset"
   ]
  },
  {
   "cell_type": "markdown",
   "metadata": {
    "id": "24Y9ArSx5Qw1"
   },
   "source": []
  },
  {
   "cell_type": "code",
   "execution_count": 58,
   "metadata": {
    "colab": {
     "base_uri": "https://localhost:8080/"
    },
    "id": "uGhtx_NJ5Ji5",
    "outputId": "3cfc36ce-ec1a-4d75-ef5e-90872ea9bd09"
   },
   "outputs": [
    {
     "data": {
      "text/plain": [
       "(     Temperature °C  Mols KCL\n",
       " 18              905        76\n",
       " 336             555       836\n",
       " 971             286       535\n",
       " 588             956       235\n",
       " 434              83       431\n",
       " ..              ...       ...\n",
       " 31              950       993\n",
       " 582             862       491\n",
       " 21              709       332\n",
       " 702             850       233\n",
       " 146             610       678\n",
       " \n",
       " [900 rows x 2 columns],\n",
       "      Temperature °C  Mols KCL\n",
       " 660             966       871\n",
       " 111             202       787\n",
       " 511             524       255\n",
       " 27              230       665\n",
       " 774             382       250\n",
       " ..              ...       ...\n",
       " 833               2         3\n",
       " 817             380       957\n",
       " 583             671       343\n",
       " 928             855       547\n",
       " 408             936       986\n",
       " \n",
       " [100 rows x 2 columns],\n",
       " 18     1.485850e+05\n",
       " 336    9.545885e+05\n",
       " 971    3.176299e+05\n",
       " 588    4.623699e+05\n",
       " 434    7.784946e+04\n",
       "            ...     \n",
       " 31     1.926273e+06\n",
       " 582    8.637160e+05\n",
       " 21     4.824333e+05\n",
       " 702    4.078511e+05\n",
       " 146    8.476138e+05\n",
       " Name: Size nm^3, Length: 900, dtype: float64,\n",
       " 660    1.716039e+06\n",
       " 111    3.380683e+05\n",
       " 511    2.753859e+05\n",
       " 27     3.212950e+05\n",
       " 774    1.973697e+05\n",
       "            ...     \n",
       " 833    3.625714e+01\n",
       " 817    7.580471e+05\n",
       " 583    4.717194e+05\n",
       " 928    9.541788e+05\n",
       " 408    1.884801e+06\n",
       " Name: Size nm^3, Length: 100, dtype: float64)"
      ]
     },
     "execution_count": 58,
     "metadata": {},
     "output_type": "execute_result"
    }
   ],
   "source": [
    "# Take the pandas dataset and split it into our features (X) and label (y)\n",
    "features = df [[\"Temperature °C\",\"Mols KCL\"]]\n",
    "label = df[\"Size nm^3\"]\n",
    "X, y = features, label\n",
    "# Use sklearn to split the features and labels into a training/test set. (90% train, 10% test)\n",
    "X_train, X_test, y_train, y_test = train_test_split(X, y, test_size=0.1)\n",
    "X_train, X_test, y_train, y_test"
   ]
  },
  {
   "cell_type": "markdown",
   "metadata": {
    "id": "FX1wpzu15Ji6"
   },
   "source": [
    "## Part 3. Perform a Linear Regression"
   ]
  },
  {
   "cell_type": "code",
   "execution_count": 59,
   "metadata": {
    "colab": {
     "base_uri": "https://localhost:8080/"
    },
    "id": "qfsWBPmi5Ji7",
    "outputId": "55485cb9-34be-4761-acbc-b76c3e70b541"
   },
   "outputs": [
    {
     "name": "stdout",
     "output_type": "stream",
     "text": [
      "Prediction on the entire test data [-417687.04999136]\n"
     ]
    }
   ],
   "source": [
    "# Use sklearn to train a model on the training set\n",
    "sample = np.array([[430, 230], [100, 234], [560, 40], [43, 3]])\n",
    "\n",
    "# Create a sample datapoint and predict the output of that sample with the trained model\n",
    "lin_reg = LinearRegression()\n",
    "lin_reg.fit(X_train,y_train)\n",
    "\n",
    "prediction = lin_reg.predict(np.array([[0,1]]))\n",
    "\n",
    "print(f\"Prediction on the entire test data\",prediction)\n",
    "\n",
    "# Report on the score for that model, in your own words (markdown, not code) explain what the score means\n",
    "\n",
    "# Extract the coefficents and intercept from the model and write an equation for your h(x) using LaTeX\n",
    "# y = mx_1 + mx_2 + b"
   ]
  },
  {
   "cell_type": "markdown",
   "metadata": {
    "id": "dnIGE8iw5Ji8"
   },
   "source": [
    "Sample equation: $E = mc^2$"
   ]
  },
  {
   "cell_type": "markdown",
   "metadata": {
    "id": "3DfMaILA5Ji9"
   },
   "source": [
    "## Part 4. Use Cross Validation"
   ]
  },
  {
   "cell_type": "code",
   "execution_count": 60,
   "metadata": {
    "colab": {
     "base_uri": "https://localhost:8080/",
     "height": 232
    },
    "id": "OM-X1kvr5Ji-",
    "outputId": "95ac899b-3c58-4538-94e4-0710ddd8e20f"
   },
   "outputs": [
    {
     "name": "stdout",
     "output_type": "stream",
     "text": [
      "[0.87616468 0.86951566 0.83708494 0.86963943 0.84945355 0.86236913\n",
      " 0.82467112 0.85236386 0.8648058  0.76555589]\n",
      "0.8471624047034034 <built-in method std of numpy.ndarray object at 0x7fb003aed1c0>\n"
     ]
    }
   ],
   "source": [
    "# Use the cross_val_score function to repeat your experiment across many shuffles of the data\n",
    "my_cv = ShuffleSplit(n_splits=10, test_size=0.1, random_state=0)\n",
    "scores = cross_val_score(model, features, label, cv = my_cv)\n",
    "\n",
    "print(scores)\n",
    "print(scores.mean(), scores.std)\n",
    "# Report on their finding and their significanc"
   ]
  },
  {
   "cell_type": "markdown",
   "metadata": {
    "id": "fQthdRMh5Ji_"
   },
   "source": [
    "## Part 5. Using Polynomial Regression"
   ]
  },
  {
   "cell_type": "code",
   "execution_count": 61,
   "metadata": {
    "colab": {
     "base_uri": "https://localhost:8080/",
     "height": 232
    },
    "id": "76wSsZTb5JjA",
    "outputId": "72667a17-2078-4b75-88b9-c48ca2f55435"
   },
   "outputs": [
    {
     "name": "stdout",
     "output_type": "stream",
     "text": [
      "Score:1.0\n",
      "coefficent:[ 0.00000000e+00  1.20000000e+01 -1.16574196e-07 -3.58154474e-11\n",
      "  2.00000000e+00  2.85714287e-02]\n",
      "intercept:1.2060743756592274e-05\n",
      "Predict:[1.71603946e+06 3.38068257e+05 2.75385857e+05 3.21295000e+05\n",
      " 1.97369714e+05 6.19684714e+05 9.38430829e+05 3.51865257e+05\n",
      " 7.23400314e+05 1.09042026e+06 1.33772103e+06 5.78913857e+05\n",
      " 3.37428429e+05 4.13732829e+05 3.46296114e+05 1.65311429e+03\n",
      " 4.95720000e+05 1.05541457e+05 6.73711143e+04 2.59291143e+04\n",
      " 5.37425257e+05 1.10952031e+06 9.77468829e+05 1.29173829e+05\n",
      " 1.62132686e+06 1.48395457e+05 3.31453714e+05 1.09212031e+06\n",
      " 6.67142973e+01 3.28200257e+05 8.14090286e+04 6.00674857e+05\n",
      " 1.50487143e+04 4.56054429e+05 2.44549600e+05 1.61217257e+05\n",
      " 7.19365600e+05 2.51269829e+05 3.92907457e+05 1.07180386e+06\n",
      " 6.61005000e+05 4.01612429e+05 5.73634286e+04 7.91715314e+05\n",
      " 5.76091143e+04 4.52268000e+05 1.77567400e+05 1.24615340e+06\n",
      " 1.81699114e+05 1.78553203e+06 2.17334314e+05 4.81235314e+05\n",
      " 3.91831429e+03 3.09613114e+05 6.16457029e+05 6.03438857e+05\n",
      " 1.00447483e+06 1.08651231e+06 7.36484029e+05 1.36031143e+04\n",
      " 4.22685029e+05 9.85393143e+04 8.62913143e+04 1.00324029e+05\n",
      " 1.37049829e+05 2.33313257e+05 1.05400011e+02 8.23033029e+05\n",
      " 7.89596314e+05 6.82266857e+05 7.18007429e+05 4.77348457e+05\n",
      " 4.05570857e+05 8.54450286e+04 4.26357257e+05 1.03501829e+05\n",
      " 4.73076600e+05 3.96173829e+05 9.76260286e+04 9.32680286e+04\n",
      " 1.31596457e+05 7.78041257e+05 6.72392829e+05 2.28364457e+05\n",
      " 5.49207314e+05 5.60757457e+05 8.24400600e+05 1.41099457e+05\n",
      " 9.01128114e+05 1.21228429e+05 7.00322857e+05 6.98827114e+05\n",
      " 2.86018857e+05 2.41597829e+05 5.10753257e+05 3.62571546e+01\n",
      " 7.58047114e+05 4.71719400e+05 9.54178829e+05 1.88480103e+06]\n"
     ]
    }
   ],
   "source": [
    "from sklearn.preprocessing import PolynomialFeatures\n",
    "# Using the PolynomialFeatures library perform another regression on an augmented dataset of degree 2\n",
    "poly = PolynomialFeatures(2)\n",
    "X_train = poly.fit_transform(X_train)\n",
    "X_test = poly.fit_transform(X_test)\n",
    "model = linear_model.LinearRegression()\n",
    "model.fit(X_train, y_train)\n",
    "print(f\"Score:{model.score(X_train,y_train)}\")\n",
    "print(f\"coefficent:{model.coef_}\")\n",
    "print(f\"intercept:{model.intercept_}\")\n",
    "# Report on the metrics and output the resultant equation as you did in Part 3.\n",
    "print(f\"Predict:{model.predict(X_test)}\")"
   ]
  }
 ],
 "metadata": {
  "kernelspec": {
   "display_name": "Python 3",
   "language": "python",
   "name": "python3"
  },
  "language_info": {
   "codemirror_mode": {
    "name": "ipython",
    "version": 3
   },
   "file_extension": ".py",
   "mimetype": "text/x-python",
   "name": "python",
   "nbconvert_exporter": "python",
   "pygments_lexer": "ipython3",
   "version": "3.8.5"
  }
 },
 "nbformat": 4,
 "nbformat_minor": 4
}
